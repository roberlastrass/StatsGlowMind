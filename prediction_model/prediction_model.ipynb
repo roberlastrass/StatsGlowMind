{
 "cells": [
  {
   "cell_type": "markdown",
   "metadata": {},
   "source": [
    "# Modelo Random Forest"
   ]
  },
  {
   "cell_type": "markdown",
   "metadata": {},
   "source": [
    "## Descripción\n",
    "- En este **Notebook**, se ha realizado un modelo de predicción de resultados de partidos de la NBA utilizando el algoritmo **Random Forest**. Este modelo se ha entrenado con las estadísticas de cada partido de la temporada actual de la NBA. Finalmente, el modelo se almacena en **Firebase Storage**.\n",
    "\n",
    "## Versión\n",
    "- Version 1.0\n",
    "\n",
    "## Autor\n",
    "- Roberto Lastras Santos"
   ]
  },
  {
   "cell_type": "markdown",
   "metadata": {},
   "source": [
    "### Configuración de Firebase"
   ]
  },
  {
   "cell_type": "code",
   "execution_count": 1,
   "metadata": {},
   "outputs": [],
   "source": [
    "import firebase_admin\n",
    "from firebase_admin import credentials, storage\n",
    "import pandas as pd\n",
    "from sklearn.ensemble import RandomForestClassifier\n",
    "import pickle\n",
    "import io\n",
    "\n",
    "# Inicializa la aplicación Firebase\n",
    "cred = credentials.Certificate('credentials/statsglowmindtfg-firebase-adminsdk-p48do-38d14e179c.json')\n",
    "firebase_admin.initialize_app(cred, {\n",
    "    'storageBucket': 'statsglowmindtfg.appspot.com'\n",
    "})\n",
    "\n",
    "# Descargar el CSV desde Firebase Storage\n",
    "bucket = storage.bucket()\n",
    "blob = bucket.blob('games.csv')\n",
    "csv_data = blob.download_as_string()\n",
    "\n",
    "# Leer el CSV en un DataFrame de pandas\n",
    "data = pd.read_csv(io.BytesIO(csv_data))\n"
   ]
  },
  {
   "cell_type": "markdown",
   "metadata": {},
   "source": [
    "### Entrenar modelo y guardarlo"
   ]
  },
  {
   "cell_type": "code",
   "execution_count": 2,
   "metadata": {},
   "outputs": [
    {
     "name": "stdout",
     "output_type": "stream",
     "text": [
      "Modelo entrenado y guardado en Firebase Storage\n"
     ]
    }
   ],
   "source": [
    "# Entrenar el modelo con las estadísticas de los partidos históricos\n",
    "X = data.drop(columns=['result', 'game_id', 'home_id', 'visitor_id'])\n",
    "y = data['result']\n",
    "model = RandomForestClassifier(n_estimators=100, random_state=42)\n",
    "model.fit(X, y)\n",
    "\n",
    "# Guardar el modelo en Firebase Storage\n",
    "model_blob = bucket.blob('random_forest_model.pkl')\n",
    "model_data = pickle.dumps(model)\n",
    "model_blob.upload_from_string(model_data)\n",
    "\n",
    "print(\"Modelo entrenado y guardado en Firebase Storage\")"
   ]
  },
  {
   "cell_type": "code",
   "execution_count": null,
   "metadata": {},
   "outputs": [],
   "source": []
  }
 ],
 "metadata": {
  "kernelspec": {
   "display_name": "Python 3.10 (mypython2024)",
   "language": "python",
   "name": "mypython2024"
  },
  "language_info": {
   "codemirror_mode": {
    "name": "ipython",
    "version": 3
   },
   "file_extension": ".py",
   "mimetype": "text/x-python",
   "name": "python",
   "nbconvert_exporter": "python",
   "pygments_lexer": "ipython3",
   "version": "3.10.11"
  }
 },
 "nbformat": 4,
 "nbformat_minor": 2
}
